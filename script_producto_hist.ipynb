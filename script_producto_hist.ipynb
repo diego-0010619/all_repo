{
 "cells": [
  {
   "cell_type": "markdown",
   "metadata": {},
   "source": [
    "# Importar librerias y perfil AWS"
   ]
  },
  {
   "cell_type": "code",
   "execution_count": 4,
   "metadata": {
    "ExecuteTime": {
     "end_time": "2024-07-08T03:04:25.293005Z",
     "start_time": "2024-07-08T03:04:24.290317Z"
    }
   },
   "outputs": [
    {
     "name": "stdout",
     "output_type": "stream",
     "text": [
      "Perfil AWS configurado: NEQUI-DataBusinessAnalyst-Role-044879804046\n"
     ]
    }
   ],
   "source": [
    "from jinja2 import Template\n",
    "import pytz\n",
    "from datetime import datetime, timedelta\n",
    "import awswrangler as wr\n",
    "import pandas as pd\n",
    "import os\n",
    "import re\n",
    "import shutil\n",
    "\n",
    "from extra.config import awsconfig\n",
    "from extra.utils import (extract, load, utils)\n",
    "\n",
    "awsconfig.aws_config_profile('NEQUI-DataBusinessAnalyst-Role-044879804046')"
   ]
  },
  {
   "cell_type": "code",
   "execution_count": 5,
   "metadata": {
    "ExecuteTime": {
     "end_time": "2024-07-08T03:04:25.356502Z",
     "start_time": "2024-07-08T03:04:25.294500Z"
    }
   },
   "outputs": [],
   "source": [
    "dict_data_sql_templates = {\n",
    "\n",
    "    # Parametos generales Athena\n",
    "    'workgroup': 'delfos',\n",
    "\n",
    "    # Parametros consulta SQL 1\n",
    "    'finacle_producto':\n",
    "    {\n",
    "        'database':'co_delfos_clientes_raw_pdn_rl',\n",
    "        'table': 'producto_hist'\n",
    "    },\n",
    "}\n",
    "# Fecha de consulta Hora Colombia\n",
    "colombia_tz = pytz.timezone(\"America/Bogota\") \n",
    "time_co = datetime.now(colombia_tz) - timedelta(days=1)\n",
    "\n",
    "dict_params_partition = {\n",
    "    # Año, mes, dia\n",
    "    'year_co': str(time_co.year),\n",
    "    'month_co': str(time_co.month).zfill(2),\n",
    "    'day_co': str(time_co.day).zfill(2)\n",
    "}"
   ]
  },
  {
   "cell_type": "markdown",
   "metadata": {},
   "source": [
    "# Consulta Finacle-Producto de cada usuario"
   ]
  },
  {
   "cell_type": "code",
   "execution_count": 6,
   "metadata": {
    "ExecuteTime": {
     "end_time": "2024-07-08T03:04:40.398188Z",
     "start_time": "2024-07-08T03:04:25.382728Z"
    }
   },
   "outputs": [
    {
     "name": "stdout",
     "output_type": "stream",
     "text": [
      "Consulta: \n",
      "\n",
      " SELECT\n",
      "    trim(both ' ' FROM replace(replace(numero_celular, '+57(', ''), ')', '')) as numero_celular\n",
      "FROM co_delfos_clientes_raw_pdn_rl.producto_hist\n",
      "WHERE true\n",
      "        AND year='2025'\n",
      "        AND month = '01'\n",
      "        AND day = '26'\n",
      "        AND CAST(valor_saldo_cuenta as DECIMAL(18, 0)) > 30000000\n",
      "        ORDER BY CAST(valor_saldo_cuenta as DECIMAL(18, 0)) DESC\n",
      "limit 1000\n",
      "\n",
      " Completada exitosamente!!!\n"
     ]
    }
   ],
   "source": [
    "# Cargar template query SQL\n",
    "sql_template_finacle_producto = Template(open('../utils/templates_querys/finacle_productos.sql', 'r').read())\n",
    "\n",
    "# Parametros de entrada Query SQL\n",
    "query_finacle_producto_params = {   'database': dict_data_sql_templates['finacle_producto']['database'],\n",
    "                                    'table': dict_data_sql_templates['finacle_producto']['table'], \n",
    "                                    'year_co': f\"'{dict_params_partition['year_co']}'\",\n",
    "                                    'month_co': f\"'{dict_params_partition['month_co']}'\",\n",
    "                                    'day_co':  f\"'{dict_params_partition['day_co']}'\"\n",
    "                                }\n",
    "# Render template Jinja SQL\n",
    "sql_finacle_producto = sql_template_finacle_producto.render(query_finacle_producto_params)\n",
    "\n",
    "# Df con los datos consultados desde Athena\n",
    "df_finacle_producto = wr.athena.read_sql_query(sql=sql_finacle_producto, \n",
    "                                              database=dict_data_sql_templates['finacle_producto']['database'], \n",
    "                                              workgroup=dict_data_sql_templates['workgroup'],\n",
    "                                               ctas_approach=False)\n",
    "# Mensaje de resultado\n",
    "print(f\"Consulta: \\n\\n {sql_finacle_producto}\\n\\n Completada exitosamente!!!\")"
   ]
  },
  {
   "cell_type": "code",
   "execution_count": 7,
   "metadata": {},
   "outputs": [
    {
     "data": {
      "text/html": [
       "<div>\n",
       "<style scoped>\n",
       "    .dataframe tbody tr th:only-of-type {\n",
       "        vertical-align: middle;\n",
       "    }\n",
       "\n",
       "    .dataframe tbody tr th {\n",
       "        vertical-align: top;\n",
       "    }\n",
       "\n",
       "    .dataframe thead th {\n",
       "        text-align: right;\n",
       "    }\n",
       "</style>\n",
       "<table border=\"1\" class=\"dataframe\">\n",
       "  <thead>\n",
       "    <tr style=\"text-align: right;\">\n",
       "      <th></th>\n",
       "      <th>numero_celular</th>\n",
       "    </tr>\n",
       "  </thead>\n",
       "  <tbody>\n",
       "  </tbody>\n",
       "</table>\n",
       "</div>"
      ],
      "text/plain": [
       "Empty DataFrame\n",
       "Columns: [numero_celular]\n",
       "Index: []"
      ]
     },
     "execution_count": 7,
     "metadata": {},
     "output_type": "execute_result"
    }
   ],
   "source": [
    "df_finacle_producto"
   ]
  },
  {
   "cell_type": "code",
   "execution_count": 8,
   "metadata": {},
   "outputs": [
    {
     "name": "stdout",
     "output_type": "stream",
     "text": [
      "\n"
     ]
    }
   ],
   "source": [
    "# Crear el string con el formato solicitado\n",
    "data_string = '\\n'.join([f'cel.vip,cel={row.numero_celular} 1' for index, row in df_finacle_producto.iterrows()])\n",
    "\n",
    "print(data_string)"
   ]
  },
  {
   "cell_type": "markdown",
   "metadata": {},
   "source": [
    "Mandar la data a Dynatrace"
   ]
  },
  {
   "cell_type": "code",
   "execution_count": 9,
   "metadata": {},
   "outputs": [
    {
     "name": "stdout",
     "output_type": "stream",
     "text": [
      "400\n",
      "{'linesOk': 0, 'linesInvalid': 0, 'error': {'code': 400, 'message': 'empty request', 'invalidLines': []}, 'warnings': None}\n"
     ]
    }
   ],
   "source": [
    "import os\n",
    "from dotenv import load_dotenv\n",
    "import requests\n",
    "\n",
    "# Lectura desde .env\n",
    "load_dotenv()\n",
    "\n",
    "# Obtener el token\n",
    "api_token = os.getenv('API_TOKEN')\n",
    "\n",
    "endpoint_url = \"https://iyl01250.live.dynatrace.com/api/v2/metrics/ingest\"\n",
    "data = 'cel.vip,cel=3006402129, id=a23 1 \\ncel.vip,cel=123 1'\n",
    "headers = {\n",
    "    \"Authorization\": f\"Api-Token {api_token}\"\n",
    "}\n",
    "\n",
    "response = requests.post(endpoint_url, data=data_string, headers=headers)\n",
    "print(response.status_code)\n",
    "print(response.json())\n"
   ]
  }
 ],
 "metadata": {
  "kernelspec": {
   "display_name": "base",
   "language": "python",
   "name": "python3"
  },
  "language_info": {
   "codemirror_mode": {
    "name": "ipython",
    "version": 3
   },
   "file_extension": ".py",
   "mimetype": "text/x-python",
   "name": "python",
   "nbconvert_exporter": "python",
   "pygments_lexer": "ipython3",
   "version": "3.11.5"
  }
 },
 "nbformat": 4,
 "nbformat_minor": 2
}
