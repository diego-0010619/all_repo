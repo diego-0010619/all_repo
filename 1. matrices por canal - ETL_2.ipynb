{
 "cells": [
  {
   "cell_type": "code",
   "execution_count": 1,
   "metadata": {},
   "outputs": [],
   "source": [
    "import numpy as np\n",
    "import pandas as pd\n",
    "import matplotlib.pyplot as plt\n",
    "import seaborn as sns\n",
    "import warnings\n",
    "from modules import AthenaQueryExecutor, SqlRender\n",
    "import pytz\n",
    "from datetime import datetime\n",
    "from dateutil.relativedelta import relativedelta\n",
    "import os\n",
    "\n",
    "from extra.config import awsconfig\n",
    "from extra.utils import (extract, load, utils)\n",
    "from extra.constants import (trx_columns, data_id_pago, name_columns_masivo)\n",
    "from extra import transforms\n",
    "\n",
    "warnings.filterwarnings('ignore')\n",
    "# plt.style.use(\"../../0. Matriz tarjeta - Proyecto base/dataviz_template/corporate.mplstyle\")\n",
    "# pd.set_option('display.float_format', '{:.2f}'.format)"
   ]
  },
  {
   "cell_type": "code",
   "execution_count": 2,
   "metadata": {},
   "outputs": [
    {
     "name": "stdout",
     "output_type": "stream",
     "text": [
      "(year = '2025' AND month = '01') OR (year = '2024' AND month = '12') OR (year = '2024' AND month = '11')\n"
     ]
    }
   ],
   "source": [
    "# Obtener la fecha y hora actual\n",
    "fecha_hora_actual = datetime.now()\n",
    "\n",
    "# Configurar la zona horaria a 'America/Bogota'\n",
    "zona_horaria_colombia = pytz.timezone('America/Bogota')\n",
    "fecha_hora_colombia = fecha_hora_actual.astimezone(zona_horaria_colombia)\n",
    "\n",
    "# fecha_result = fecha_hora_colombia - relativedelta(months=3)\n",
    "# print(fecha_result.year)\n",
    "\n",
    "string_filtro = \"\"\n",
    "\n",
    "# creando el string_filtro con las fechas desde 3 meses atras.\n",
    "for i in range(3):\n",
    "    fecha_result = fecha_hora_colombia - relativedelta(months=i)\n",
    "    string_filtro = string_filtro + \"(year = '\" + str(fecha_result.year) + \"' AND month = '\"+str(fecha_result.month).zfill(2)+\"') OR \"\n",
    "string_filtro = string_filtro[:-4]\n",
    "print(string_filtro)"
   ]
  },
  {
   "cell_type": "code",
   "execution_count": 3,
   "metadata": {},
   "outputs": [
    {
     "name": "stdout",
     "output_type": "stream",
     "text": [
      "Perfil AWS configurado: NEQUI-DataBusinessAnalyst-Role-044879804046\n"
     ]
    }
   ],
   "source": [
    "awsconfig.aws_config_profile('NEQUI-DataBusinessAnalyst-Role-044879804046')"
   ]
  },
  {
   "cell_type": "code",
   "execution_count": 4,
   "metadata": {},
   "outputs": [
    {
     "name": "stdout",
     "output_type": "stream",
     "text": [
      "SELECT\n",
      "        ticket_id AS \"ID_del_ticket\",\n",
      "        fields_payload['numero_de_documento'] as Numero_de_documento,\n",
      "        fields_payload['modalidad_de_fraude'] as Modalidad_de_fraude,\n",
      "        fields_payload['tipo_de_incidente'] as Tipo_de_incidente,\n",
      "        created_at as \"Ticket_creado_Fecha\",\n",
      "        type AS \"Tipo_de_ticket\",\n",
      "        CASE\n",
      "            WHEN type = 'question' THEN 0\n",
      "            ELSE CAST(fields_payload['Valor_del_fraude'] AS INTEGER)\n",
      "        END AS \"Valor_del_fraude\"\n",
      "FROM co_delfos_servicio_raw_pdn_rl.co_zendesk_flatten_tickets\n",
      "WHERE true\n",
      "        AND ((year = '2025' AND month = '01') OR (year = '2024' AND month = '12') OR (year = '2024' AND month = '11'))\n",
      "        AND ticket_form_label = 'gestion_de_fraude'\n",
      "        AND brand_id = 1088748\n",
      "        AND type IN ('incident', 'question') --Tipo ticket\n",
      "\n",
      "        AND ( (type IN ('incident')) AND (fields_payload['tipo_de_incidente'] in ('queja_smart','reclamo_smart', 'solicitud_smart')) )\n",
      "\n",
      "        and ((fields_payload['fusionado']='false') OR (fields_payload['fusionado']=''))\n",
      "order by ticket_id asc\n"
     ]
    }
   ],
   "source": [
    "query_malla_prot_crisis = SqlRender.render_template(name_template=\"datos_tickets_all.sql\",database=\"co_delfos_servicio_raw_pdn_rl\",\n",
    "                                                    table=\"co_zendesk_flatten_tickets\", filtro_fecha=string_filtro)\n",
    "\n",
    "print(query_malla_prot_crisis)\n",
    "\n",
    "df_consulta = AthenaQueryExecutor.execute_query(query=query_malla_prot_crisis, database_athena=\"co_delfos_servicio_raw_pdn_rl\", \n",
    "                                                workgroup_athena=\"delfos\")\n"
   ]
  },
  {
   "cell_type": "code",
   "execution_count": 5,
   "metadata": {},
   "outputs": [
    {
     "name": "stdout",
     "output_type": "stream",
     "text": [
      "(51199, 8)\n"
     ]
    }
   ],
   "source": [
    "cols = ['ID del ticket', 'Número de documento', 'Modalidad', 'Tipo de incidente', \n",
    "        'Ticket creado - Fecha', 'Tipo de ticket', 'Valor del fraude']\n",
    "\n",
    "rename_columns = {  'ID_del_ticket':'ID del ticket',\n",
    "                    'Numero_de_documento':'Número de documento',\n",
    "                    'Modalidad_de_fraude':'Modalidad',\n",
    "                    'Tipo_de_incidente':'Tipo de incidente',\n",
    "                    'Ticket_creado_Fecha':'Ticket creado - Fecha',\n",
    "                    'Tipo_de_ticket':'Tipo de ticket',\n",
    "                    'Valor_del_fraude':'Valor del fraude'\n",
    "                }\n",
    "\n",
    "# rename_columns = {  'Modalidad de fraude':'Modalidad'}\n",
    "\n",
    "df_consulta = df_consulta.rename(columns=rename_columns)\n",
    "\n",
    "df = df_consulta.copy()\n",
    "\n",
    "\n",
    "# Concateno todas las modalidades\n",
    "df['Ticket creado - Fecha'] = pd.to_datetime(df['Ticket creado - Fecha'])\n",
    "df['Anio-Mes'] = df['Ticket creado - Fecha'].dt.strftime('%Y-%m')\n",
    "\n",
    "print(df.shape)"
   ]
  },
  {
   "cell_type": "code",
   "execution_count": 6,
   "metadata": {},
   "outputs": [
    {
     "data": {
      "text/plain": [
       "Modalidad\n",
       "compras_no_reconocidas_con_tarjeta_débito_modalidad     5716\n",
       "estafa_modalidad                                         261\n",
       "listas_restrictivas_bloqueos                             958\n",
       "monitoreo_transaccional_bloqueos_alertas                2129\n",
       "receptores_de_fraude_modalidad                          1867\n",
       "suplantación_de_identidad_modalidad                     3053\n",
       "vulneración_de_cuentas_modalidad                       37215\n",
       "Name: Modalidad, dtype: int64"
      ]
     },
     "execution_count": 6,
     "metadata": {},
     "output_type": "execute_result"
    }
   ],
   "source": [
    "df.groupby('Modalidad')['Modalidad'].count()"
   ]
  },
  {
   "cell_type": "markdown",
   "metadata": {},
   "source": [
    "## Analisis de registros que se eliminarian"
   ]
  },
  {
   "cell_type": "code",
   "execution_count": 7,
   "metadata": {},
   "outputs": [],
   "source": [
    "# lista=df.dropna(subset=['Número de documento', 'Tipo de incidente', 'Modalidad', 'Ticket creado - Fecha'])['ID del ticket'].tolist()\n",
    "# df_result = df[~df['ID del ticket'].isin(lista)]\n",
    "# df_result.groupby('Modalidad')['Modalidad'].count()\n",
    "\n",
    "# Asi estaba en el codigo\n",
    "# print(f\"Tamaño inicial de la muestra: {df.shape[0]}\")\n",
    "# df = df.dropna(subset=['Número de documento', 'Tipo de incidente', 'Modalidad', 'Ticket creado - Fecha'])\n",
    "# print(f\"Tamaño de la muestra eliminando campos vacíos: {df.shape[0]}\\n\")"
   ]
  },
  {
   "cell_type": "code",
   "execution_count": 8,
   "metadata": {},
   "outputs": [
    {
     "name": "stdout",
     "output_type": "stream",
     "text": [
      "Tamaño inicial de la muestra: 51199\n"
     ]
    },
    {
     "ename": "IndexError",
     "evalue": "index -1 is out of bounds for axis 0 with size 0",
     "output_type": "error",
     "traceback": [
      "\u001b[1;31m---------------------------------------------------------------------------\u001b[0m",
      "\u001b[1;31mIndexError\u001b[0m                                Traceback (most recent call last)",
      "Cell \u001b[1;32mIn[8], line 6\u001b[0m\n\u001b[0;32m      3\u001b[0m df[\u001b[38;5;124m'\u001b[39m\u001b[38;5;124mValor del fraude\u001b[39m\u001b[38;5;124m'\u001b[39m] \u001b[38;5;241m=\u001b[39m df[\u001b[38;5;124m'\u001b[39m\u001b[38;5;124mValor del fraude\u001b[39m\u001b[38;5;124m'\u001b[39m]\u001b[38;5;241m.\u001b[39mastype(\u001b[38;5;124m'\u001b[39m\u001b[38;5;124mFloat64\u001b[39m\u001b[38;5;124m'\u001b[39m)\n\u001b[0;32m      5\u001b[0m percentil \u001b[38;5;241m=\u001b[39m \u001b[38;5;241m99\u001b[39m\n\u001b[1;32m----> 6\u001b[0m umbral \u001b[38;5;241m=\u001b[39m \u001b[43mnp\u001b[49m\u001b[38;5;241;43m.\u001b[39;49m\u001b[43mpercentile\u001b[49m\u001b[43m(\u001b[49m\u001b[43mdf\u001b[49m\u001b[43m[\u001b[49m\u001b[38;5;124;43m'\u001b[39;49m\u001b[38;5;124;43mValor del fraude\u001b[39;49m\u001b[38;5;124;43m'\u001b[39;49m\u001b[43m]\u001b[49m\u001b[38;5;241;43m.\u001b[39;49m\u001b[43mdropna\u001b[49m\u001b[43m(\u001b[49m\u001b[43m)\u001b[49m\u001b[43m,\u001b[49m\u001b[43m \u001b[49m\u001b[43mpercentil\u001b[49m\u001b[43m)\u001b[49m\n\u001b[0;32m      8\u001b[0m \u001b[38;5;28mprint\u001b[39m(\u001b[38;5;124mf\u001b[39m\u001b[38;5;124m\"\u001b[39m\u001b[38;5;124mPercentil \u001b[39m\u001b[38;5;132;01m{\u001b[39;00mpercentil\u001b[38;5;132;01m}\u001b[39;00m\u001b[38;5;124m de valores de fraude : \u001b[39m\u001b[38;5;132;01m{\u001b[39;00m\u001b[38;5;28mround\u001b[39m(umbral,\u001b[38;5;250m \u001b[39m\u001b[38;5;241m2\u001b[39m)\u001b[38;5;132;01m}\u001b[39;00m\u001b[38;5;124m\"\u001b[39m)\n\u001b[0;32m      9\u001b[0m \u001b[38;5;28mprint\u001b[39m(\u001b[38;5;124mf\u001b[39m\u001b[38;5;124m\"\u001b[39m\u001b[38;5;124mSe pierden un \u001b[39m\u001b[38;5;132;01m{\u001b[39;00m\u001b[38;5;28mround\u001b[39m(df[((df[\u001b[38;5;124m'\u001b[39m\u001b[38;5;124mValor del fraude\u001b[39m\u001b[38;5;124m'\u001b[39m]\u001b[38;5;250m \u001b[39m\u001b[38;5;241m>\u001b[39m\u001b[38;5;250m \u001b[39mumbral)\u001b[38;5;250m \u001b[39m\u001b[38;5;241m&\u001b[39m\u001b[38;5;250m \u001b[39m(df[\u001b[38;5;124m'\u001b[39m\u001b[38;5;124mValor del fraude\u001b[39m\u001b[38;5;124m'\u001b[39m]\u001b[38;5;241m.\u001b[39mnotna())\u001b[38;5;250m \u001b[39m\u001b[38;5;241m&\u001b[39m\u001b[38;5;250m \u001b[39m(df[\u001b[38;5;124m'\u001b[39m\u001b[38;5;124mValor del fraude\u001b[39m\u001b[38;5;124m'\u001b[39m]\u001b[38;5;250m \u001b[39m\u001b[38;5;241m!=\u001b[39m\u001b[38;5;250m \u001b[39m\u001b[38;5;241m0\u001b[39m))]\u001b[38;5;241m.\u001b[39mshape[\u001b[38;5;241m0\u001b[39m]\u001b[38;5;241m/\u001b[39mdf\u001b[38;5;241m.\u001b[39mshape[\u001b[38;5;241m0\u001b[39m]\u001b[38;5;241m*\u001b[39m\u001b[38;5;241m100\u001b[39m,\u001b[38;5;250m \u001b[39m\u001b[38;5;241m2\u001b[39m)\u001b[38;5;132;01m}\u001b[39;00m\u001b[38;5;124m% de los datos\u001b[39m\u001b[38;5;124m\"\u001b[39m)\n",
      "File \u001b[1;32mc:\\Users\\disanchez\\AppData\\Local\\anaconda3\\envs\\env_nequi_protocolo_crisis\\lib\\site-packages\\numpy\\lib\\function_base.py:4283\u001b[0m, in \u001b[0;36mpercentile\u001b[1;34m(a, q, axis, out, overwrite_input, method, keepdims, interpolation)\u001b[0m\n\u001b[0;32m   4281\u001b[0m \u001b[38;5;28;01mif\u001b[39;00m \u001b[38;5;129;01mnot\u001b[39;00m _quantile_is_valid(q):\n\u001b[0;32m   4282\u001b[0m     \u001b[38;5;28;01mraise\u001b[39;00m \u001b[38;5;167;01mValueError\u001b[39;00m(\u001b[38;5;124m\"\u001b[39m\u001b[38;5;124mPercentiles must be in the range [0, 100]\u001b[39m\u001b[38;5;124m\"\u001b[39m)\n\u001b[1;32m-> 4283\u001b[0m \u001b[38;5;28;01mreturn\u001b[39;00m \u001b[43m_quantile_unchecked\u001b[49m\u001b[43m(\u001b[49m\n\u001b[0;32m   4284\u001b[0m \u001b[43m    \u001b[49m\u001b[43ma\u001b[49m\u001b[43m,\u001b[49m\u001b[43m \u001b[49m\u001b[43mq\u001b[49m\u001b[43m,\u001b[49m\u001b[43m \u001b[49m\u001b[43maxis\u001b[49m\u001b[43m,\u001b[49m\u001b[43m \u001b[49m\u001b[43mout\u001b[49m\u001b[43m,\u001b[49m\u001b[43m \u001b[49m\u001b[43moverwrite_input\u001b[49m\u001b[43m,\u001b[49m\u001b[43m \u001b[49m\u001b[43mmethod\u001b[49m\u001b[43m,\u001b[49m\u001b[43m \u001b[49m\u001b[43mkeepdims\u001b[49m\u001b[43m)\u001b[49m\n",
      "File \u001b[1;32mc:\\Users\\disanchez\\AppData\\Local\\anaconda3\\envs\\env_nequi_protocolo_crisis\\lib\\site-packages\\numpy\\lib\\function_base.py:4555\u001b[0m, in \u001b[0;36m_quantile_unchecked\u001b[1;34m(a, q, axis, out, overwrite_input, method, keepdims)\u001b[0m\n\u001b[0;32m   4547\u001b[0m \u001b[38;5;28;01mdef\u001b[39;00m \u001b[38;5;21m_quantile_unchecked\u001b[39m(a,\n\u001b[0;32m   4548\u001b[0m                         q,\n\u001b[0;32m   4549\u001b[0m                         axis\u001b[38;5;241m=\u001b[39m\u001b[38;5;28;01mNone\u001b[39;00m,\n\u001b[1;32m   (...)\u001b[0m\n\u001b[0;32m   4552\u001b[0m                         method\u001b[38;5;241m=\u001b[39m\u001b[38;5;124m\"\u001b[39m\u001b[38;5;124mlinear\u001b[39m\u001b[38;5;124m\"\u001b[39m,\n\u001b[0;32m   4553\u001b[0m                         keepdims\u001b[38;5;241m=\u001b[39m\u001b[38;5;28;01mFalse\u001b[39;00m):\n\u001b[0;32m   4554\u001b[0m \u001b[38;5;250m    \u001b[39m\u001b[38;5;124;03m\"\"\"Assumes that q is in [0, 1], and is an ndarray\"\"\"\u001b[39;00m\n\u001b[1;32m-> 4555\u001b[0m     \u001b[38;5;28;01mreturn\u001b[39;00m \u001b[43m_ureduce\u001b[49m\u001b[43m(\u001b[49m\u001b[43ma\u001b[49m\u001b[43m,\u001b[49m\n\u001b[0;32m   4556\u001b[0m \u001b[43m                    \u001b[49m\u001b[43mfunc\u001b[49m\u001b[38;5;241;43m=\u001b[39;49m\u001b[43m_quantile_ureduce_func\u001b[49m\u001b[43m,\u001b[49m\n\u001b[0;32m   4557\u001b[0m \u001b[43m                    \u001b[49m\u001b[43mq\u001b[49m\u001b[38;5;241;43m=\u001b[39;49m\u001b[43mq\u001b[49m\u001b[43m,\u001b[49m\n\u001b[0;32m   4558\u001b[0m \u001b[43m                    \u001b[49m\u001b[43mkeepdims\u001b[49m\u001b[38;5;241;43m=\u001b[39;49m\u001b[43mkeepdims\u001b[49m\u001b[43m,\u001b[49m\n\u001b[0;32m   4559\u001b[0m \u001b[43m                    \u001b[49m\u001b[43maxis\u001b[49m\u001b[38;5;241;43m=\u001b[39;49m\u001b[43maxis\u001b[49m\u001b[43m,\u001b[49m\n\u001b[0;32m   4560\u001b[0m \u001b[43m                    \u001b[49m\u001b[43mout\u001b[49m\u001b[38;5;241;43m=\u001b[39;49m\u001b[43mout\u001b[49m\u001b[43m,\u001b[49m\n\u001b[0;32m   4561\u001b[0m \u001b[43m                    \u001b[49m\u001b[43moverwrite_input\u001b[49m\u001b[38;5;241;43m=\u001b[39;49m\u001b[43moverwrite_input\u001b[49m\u001b[43m,\u001b[49m\n\u001b[0;32m   4562\u001b[0m \u001b[43m                    \u001b[49m\u001b[43mmethod\u001b[49m\u001b[38;5;241;43m=\u001b[39;49m\u001b[43mmethod\u001b[49m\u001b[43m)\u001b[49m\n",
      "File \u001b[1;32mc:\\Users\\disanchez\\AppData\\Local\\anaconda3\\envs\\env_nequi_protocolo_crisis\\lib\\site-packages\\numpy\\lib\\function_base.py:3823\u001b[0m, in \u001b[0;36m_ureduce\u001b[1;34m(a, func, keepdims, **kwargs)\u001b[0m\n\u001b[0;32m   3820\u001b[0m             index_out \u001b[38;5;241m=\u001b[39m (\u001b[38;5;241m0\u001b[39m, ) \u001b[38;5;241m*\u001b[39m nd\n\u001b[0;32m   3821\u001b[0m             kwargs[\u001b[38;5;124m'\u001b[39m\u001b[38;5;124mout\u001b[39m\u001b[38;5;124m'\u001b[39m] \u001b[38;5;241m=\u001b[39m out[(\u001b[38;5;28mEllipsis\u001b[39m, ) \u001b[38;5;241m+\u001b[39m index_out]\n\u001b[1;32m-> 3823\u001b[0m r \u001b[38;5;241m=\u001b[39m func(a, \u001b[38;5;241m*\u001b[39m\u001b[38;5;241m*\u001b[39mkwargs)\n\u001b[0;32m   3825\u001b[0m \u001b[38;5;28;01mif\u001b[39;00m out \u001b[38;5;129;01mis\u001b[39;00m \u001b[38;5;129;01mnot\u001b[39;00m \u001b[38;5;28;01mNone\u001b[39;00m:\n\u001b[0;32m   3826\u001b[0m     \u001b[38;5;28;01mreturn\u001b[39;00m out\n",
      "File \u001b[1;32mc:\\Users\\disanchez\\AppData\\Local\\anaconda3\\envs\\env_nequi_protocolo_crisis\\lib\\site-packages\\numpy\\lib\\function_base.py:4722\u001b[0m, in \u001b[0;36m_quantile_ureduce_func\u001b[1;34m(a, q, axis, out, overwrite_input, method)\u001b[0m\n\u001b[0;32m   4720\u001b[0m     \u001b[38;5;28;01melse\u001b[39;00m:\n\u001b[0;32m   4721\u001b[0m         arr \u001b[38;5;241m=\u001b[39m a\u001b[38;5;241m.\u001b[39mcopy()\n\u001b[1;32m-> 4722\u001b[0m result \u001b[38;5;241m=\u001b[39m \u001b[43m_quantile\u001b[49m\u001b[43m(\u001b[49m\u001b[43marr\u001b[49m\u001b[43m,\u001b[49m\n\u001b[0;32m   4723\u001b[0m \u001b[43m                   \u001b[49m\u001b[43mquantiles\u001b[49m\u001b[38;5;241;43m=\u001b[39;49m\u001b[43mq\u001b[49m\u001b[43m,\u001b[49m\n\u001b[0;32m   4724\u001b[0m \u001b[43m                   \u001b[49m\u001b[43maxis\u001b[49m\u001b[38;5;241;43m=\u001b[39;49m\u001b[43maxis\u001b[49m\u001b[43m,\u001b[49m\n\u001b[0;32m   4725\u001b[0m \u001b[43m                   \u001b[49m\u001b[43mmethod\u001b[49m\u001b[38;5;241;43m=\u001b[39;49m\u001b[43mmethod\u001b[49m\u001b[43m,\u001b[49m\n\u001b[0;32m   4726\u001b[0m \u001b[43m                   \u001b[49m\u001b[43mout\u001b[49m\u001b[38;5;241;43m=\u001b[39;49m\u001b[43mout\u001b[49m\u001b[43m)\u001b[49m\n\u001b[0;32m   4727\u001b[0m \u001b[38;5;28;01mreturn\u001b[39;00m result\n",
      "File \u001b[1;32mc:\\Users\\disanchez\\AppData\\Local\\anaconda3\\envs\\env_nequi_protocolo_crisis\\lib\\site-packages\\numpy\\lib\\function_base.py:4831\u001b[0m, in \u001b[0;36m_quantile\u001b[1;34m(arr, quantiles, axis, method, out)\u001b[0m\n\u001b[0;32m   4824\u001b[0m arr\u001b[38;5;241m.\u001b[39mpartition(\n\u001b[0;32m   4825\u001b[0m     np\u001b[38;5;241m.\u001b[39munique(np\u001b[38;5;241m.\u001b[39mconcatenate(([\u001b[38;5;241m0\u001b[39m, \u001b[38;5;241m-\u001b[39m\u001b[38;5;241m1\u001b[39m],\n\u001b[0;32m   4826\u001b[0m                               previous_indexes\u001b[38;5;241m.\u001b[39mravel(),\n\u001b[0;32m   4827\u001b[0m                               next_indexes\u001b[38;5;241m.\u001b[39mravel(),\n\u001b[0;32m   4828\u001b[0m                               ))),\n\u001b[0;32m   4829\u001b[0m     axis\u001b[38;5;241m=\u001b[39m\u001b[38;5;241m0\u001b[39m)\n\u001b[0;32m   4830\u001b[0m \u001b[38;5;28;01mif\u001b[39;00m supports_nans:\n\u001b[1;32m-> 4831\u001b[0m     slices_having_nans \u001b[38;5;241m=\u001b[39m np\u001b[38;5;241m.\u001b[39misnan(\u001b[43marr\u001b[49m\u001b[43m[\u001b[49m\u001b[38;5;241;43m-\u001b[39;49m\u001b[38;5;241;43m1\u001b[39;49m\u001b[43m,\u001b[49m\u001b[43m \u001b[49m\u001b[38;5;241;43m.\u001b[39;49m\u001b[38;5;241;43m.\u001b[39;49m\u001b[38;5;241;43m.\u001b[39;49m\u001b[43m]\u001b[49m)\n\u001b[0;32m   4832\u001b[0m \u001b[38;5;28;01melse\u001b[39;00m:\n\u001b[0;32m   4833\u001b[0m     slices_having_nans \u001b[38;5;241m=\u001b[39m \u001b[38;5;28;01mNone\u001b[39;00m\n",
      "\u001b[1;31mIndexError\u001b[0m: index -1 is out of bounds for axis 0 with size 0"
     ]
    }
   ],
   "source": [
    "# Pruebas de condicional\n",
    "print(f\"Tamaño inicial de la muestra: {df.shape[0]}\")\n",
    "df['Valor del fraude'] = df['Valor del fraude'].astype('Float64')\n",
    "\n",
    "percentil = 99\n",
    "umbral = np.percentile(df['Valor del fraude'].dropna(), percentil)\n",
    "\n",
    "print(f\"Percentil {percentil} de valores de fraude : {round(umbral, 2)}\")\n",
    "print(f\"Se pierden un {round(df[((df['Valor del fraude'] > umbral) & (df['Valor del fraude'].notna()) & (df['Valor del fraude'] != 0))].shape[0]/df.shape[0]*100, 2)}% de los datos\")\n",
    "\n",
    "df = df[~((df['Valor del fraude'] > umbral) & (df['Valor del fraude'].notna()) & (df['Valor del fraude'] != 0))]\n",
    "print(f\"Tamaño de la muestra limpia: {df.shape[0]}\\n\")"
   ]
  },
  {
   "cell_type": "code",
   "execution_count": null,
   "metadata": {},
   "outputs": [],
   "source": [
    "## Agrupación por cada evento (Número de documento, Modalidad de reclamo Gestión de Fraude y Ticket creado - Fecha )\n",
    "df = df.groupby(['Número de documento', 'Tipo de incidente', 'Modalidad', 'Ticket creado - Fecha']).agg({'ID del ticket': 'count', 'Valor del fraude': 'sum'}).sort_values('ID del ticket').reset_index()\n",
    "df['Anio-Mes'] = df['Ticket creado - Fecha'].dt.strftime('%Y-%m')\n",
    "df['Número de documento'] = df['Número de documento'].astype(str)\n",
    "print(f\"Tamaño de la muestra agrupada: {df.shape[0]}\\n\")\n",
    "df.to_parquet(\"./data/processed/data_eventos_fraude.parquet\", engine='pyarrow')\n",
    "\n",
    "df.to_excel(\"./data/processed/data_eventos_fraude_2.xlsx\")\n",
    "df\n"
   ]
  }
 ],
 "metadata": {
  "kernelspec": {
   "display_name": "env_nequi_protocolo_crisis",
   "language": "python",
   "name": "python3"
  },
  "language_info": {
   "codemirror_mode": {
    "name": "ipython",
    "version": 3
   },
   "file_extension": ".py",
   "mimetype": "text/x-python",
   "name": "python",
   "nbconvert_exporter": "python",
   "pygments_lexer": "ipython3",
   "version": "3.10.11"
  },
  "orig_nbformat": 4
 },
 "nbformat": 4,
 "nbformat_minor": 2
}
